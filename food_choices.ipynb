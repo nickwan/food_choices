{
  "nbformat": 4,
  "nbformat_minor": 0,
  "metadata": {
    "colab": {
      "name": "food_choices.ipynb",
      "provenance": [],
      "mount_file_id": "1VPNH9UiBJcgwnLspRO-pI9plYRpxWGON",
      "authorship_tag": "ABX9TyNeBEGXtjfpOmGTNyzSGhOg",
      "include_colab_link": true
    },
    "kernelspec": {
      "name": "python3",
      "display_name": "Python 3"
    }
  },
  "cells": [
    {
      "cell_type": "markdown",
      "metadata": {
        "id": "view-in-github",
        "colab_type": "text"
      },
      "source": [
        "<a href=\"https://colab.research.google.com/github/nickwan/food_choices/blob/master/food_choices.ipynb\" target=\"_parent\"><img src=\"https://colab.research.google.com/assets/colab-badge.svg\" alt=\"Open In Colab\"/></a>"
      ]
    },
    {
      "cell_type": "markdown",
      "metadata": {
        "id": "c-bCf5NAeZEB",
        "colab_type": "text"
      },
      "source": [
        "# Food choices by pepegas \n"
      ]
    },
    {
      "cell_type": "code",
      "metadata": {
        "id": "I0J4AQKFd43e",
        "colab_type": "code",
        "colab": {
          "base_uri": "https://localhost:8080/",
          "height": 74
        },
        "outputId": "dbdeffe4-d415-441d-afa1-45442a7ac573"
      },
      "source": [
        "from tqdm.notebook import tqdm\n",
        "import warnings\n",
        "import os \n",
        "import numpy as np \n",
        "import pandas as pd \n",
        "import matplotlib.pyplot as plt \n",
        "import seaborn as sns  \n",
        "\n",
        "from sklearn.linear_model import LogisticRegression, LinearRegression\n",
        "from sklearn.ensemble import RandomForestRegressor, RandomForestClassifier\n",
        "from sklearn.model_selection import KFold\n",
        "\n",
        "from sklearn.metrics import accuracy_score, mean_squared_error, log_loss\n",
        "from scipy.stats import pearsonr, spearmanr"
      ],
      "execution_count": 1,
      "outputs": [
        {
          "output_type": "stream",
          "text": [
            "/usr/local/lib/python3.6/dist-packages/statsmodels/tools/_testing.py:19: FutureWarning: pandas.util.testing is deprecated. Use the functions in the public API at pandas.testing instead.\n",
            "  import pandas.util.testing as tm\n"
          ],
          "name": "stderr"
        }
      ]
    },
    {
      "cell_type": "code",
      "metadata": {
        "id": "QaSdhd5VehQs",
        "colab_type": "code",
        "colab": {
          "base_uri": "https://localhost:8080/",
          "height": 35
        },
        "outputId": "24f29ed4-02ae-4a5b-9647-5128075c6adf"
      },
      "source": [
        "project_dir = '/content/drive/My Drive/food_choices'\n",
        "os.listdir(f\"{project_dir}/data\")"
      ],
      "execution_count": 2,
      "outputs": [
        {
          "output_type": "execute_result",
          "data": {
            "text/plain": [
              "['codebook_food.docx', 'food_coded.csv']"
            ]
          },
          "metadata": {
            "tags": []
          },
          "execution_count": 2
        }
      ]
    },
    {
      "cell_type": "code",
      "metadata": {
        "id": "HImAKjc0erza",
        "colab_type": "code",
        "colab": {
          "base_uri": "https://localhost:8080/",
          "height": 35
        },
        "outputId": "1fe4e238-3d0f-4d96-f267-4e8433bfc48a"
      },
      "source": [
        "df = pd.read_csv(f\"{project_dir}/data/food_coded.csv\")\n",
        "df['life_rewarding'] = df['life_rewarding'].sub(11).abs()\n",
        "df.shape"
      ],
      "execution_count": 19,
      "outputs": [
        {
          "output_type": "execute_result",
          "data": {
            "text/plain": [
              "(125, 61)"
            ]
          },
          "metadata": {
            "tags": []
          },
          "execution_count": 19
        }
      ]
    },
    {
      "cell_type": "markdown",
      "metadata": {
        "id": "ODLeAOsBwiDt",
        "colab_type": "text"
      },
      "source": [
        "# Does guessing calories wrongly influence your nihilism "
      ]
    },
    {
      "cell_type": "code",
      "metadata": {
        "id": "-j9uqk6DvsKm",
        "colab_type": "code",
        "colab": {}
      },
      "source": [
        "cal_cols = [x for x in df.columns.values if ((x.startswith('calories_')) or (x.endswith('_calories'))) and (x!='calories_day')]\n",
        "target = 'life_rewarding'"
      ],
      "execution_count": 20,
      "outputs": []
    },
    {
      "cell_type": "code",
      "metadata": {
        "id": "IjasWblhe1_5",
        "colab_type": "code",
        "colab": {
          "base_uri": "https://localhost:8080/",
          "height": 254
        },
        "outputId": "5311059a-9b71-4a9e-faca-8c1558570309"
      },
      "source": [
        "df.loc[:,cal_cols + [target]].info()"
      ],
      "execution_count": 21,
      "outputs": [
        {
          "output_type": "stream",
          "text": [
            "<class 'pandas.core.frame.DataFrame'>\n",
            "RangeIndex: 125 entries, 0 to 124\n",
            "Data columns (total 6 columns):\n",
            " #   Column             Non-Null Count  Dtype  \n",
            "---  ------             --------------  -----  \n",
            " 0   calories_chicken   125 non-null    int64  \n",
            " 1   calories_scone     124 non-null    float64\n",
            " 2   tortilla_calories  124 non-null    float64\n",
            " 3   turkey_calories    125 non-null    int64  \n",
            " 4   waffle_calories    125 non-null    int64  \n",
            " 5   life_rewarding     124 non-null    float64\n",
            "dtypes: float64(3), int64(3)\n",
            "memory usage: 6.0 KB\n"
          ],
          "name": "stdout"
        }
      ]
    },
    {
      "cell_type": "code",
      "metadata": {
        "id": "dAup752pwg5K",
        "colab_type": "code",
        "colab": {
          "base_uri": "https://localhost:8080/",
          "height": 248
        },
        "outputId": "4f62e30a-c260-4418-d81a-412878faaacc"
      },
      "source": [
        "df.loc[:,cal_cols + [target]].corr()"
      ],
      "execution_count": 22,
      "outputs": [
        {
          "output_type": "execute_result",
          "data": {
            "text/html": [
              "<div>\n",
              "<style scoped>\n",
              "    .dataframe tbody tr th:only-of-type {\n",
              "        vertical-align: middle;\n",
              "    }\n",
              "\n",
              "    .dataframe tbody tr th {\n",
              "        vertical-align: top;\n",
              "    }\n",
              "\n",
              "    .dataframe thead th {\n",
              "        text-align: right;\n",
              "    }\n",
              "</style>\n",
              "<table border=\"1\" class=\"dataframe\">\n",
              "  <thead>\n",
              "    <tr style=\"text-align: right;\">\n",
              "      <th></th>\n",
              "      <th>calories_chicken</th>\n",
              "      <th>calories_scone</th>\n",
              "      <th>tortilla_calories</th>\n",
              "      <th>turkey_calories</th>\n",
              "      <th>waffle_calories</th>\n",
              "      <th>life_rewarding</th>\n",
              "    </tr>\n",
              "  </thead>\n",
              "  <tbody>\n",
              "    <tr>\n",
              "      <th>calories_chicken</th>\n",
              "      <td>1.000000</td>\n",
              "      <td>0.062835</td>\n",
              "      <td>0.381808</td>\n",
              "      <td>0.397642</td>\n",
              "      <td>0.347542</td>\n",
              "      <td>0.276422</td>\n",
              "    </tr>\n",
              "    <tr>\n",
              "      <th>calories_scone</th>\n",
              "      <td>0.062835</td>\n",
              "      <td>1.000000</td>\n",
              "      <td>0.233255</td>\n",
              "      <td>-0.016898</td>\n",
              "      <td>0.364592</td>\n",
              "      <td>-0.079967</td>\n",
              "    </tr>\n",
              "    <tr>\n",
              "      <th>tortilla_calories</th>\n",
              "      <td>0.381808</td>\n",
              "      <td>0.233255</td>\n",
              "      <td>1.000000</td>\n",
              "      <td>0.475053</td>\n",
              "      <td>0.422238</td>\n",
              "      <td>0.232886</td>\n",
              "    </tr>\n",
              "    <tr>\n",
              "      <th>turkey_calories</th>\n",
              "      <td>0.397642</td>\n",
              "      <td>-0.016898</td>\n",
              "      <td>0.475053</td>\n",
              "      <td>1.000000</td>\n",
              "      <td>0.361239</td>\n",
              "      <td>0.116069</td>\n",
              "    </tr>\n",
              "    <tr>\n",
              "      <th>waffle_calories</th>\n",
              "      <td>0.347542</td>\n",
              "      <td>0.364592</td>\n",
              "      <td>0.422238</td>\n",
              "      <td>0.361239</td>\n",
              "      <td>1.000000</td>\n",
              "      <td>0.173308</td>\n",
              "    </tr>\n",
              "    <tr>\n",
              "      <th>life_rewarding</th>\n",
              "      <td>0.276422</td>\n",
              "      <td>-0.079967</td>\n",
              "      <td>0.232886</td>\n",
              "      <td>0.116069</td>\n",
              "      <td>0.173308</td>\n",
              "      <td>1.000000</td>\n",
              "    </tr>\n",
              "  </tbody>\n",
              "</table>\n",
              "</div>"
            ],
            "text/plain": [
              "                   calories_chicken  ...  life_rewarding\n",
              "calories_chicken           1.000000  ...        0.276422\n",
              "calories_scone             0.062835  ...       -0.079967\n",
              "tortilla_calories          0.381808  ...        0.232886\n",
              "turkey_calories            0.397642  ...        0.116069\n",
              "waffle_calories            0.347542  ...        0.173308\n",
              "life_rewarding             0.276422  ...        1.000000\n",
              "\n",
              "[6 rows x 6 columns]"
            ]
          },
          "metadata": {
            "tags": []
          },
          "execution_count": 22
        }
      ]
    },
    {
      "cell_type": "code",
      "metadata": {
        "id": "UJTv2LcGwfzf",
        "colab_type": "code",
        "colab": {
          "base_uri": "https://localhost:8080/",
          "height": 35
        },
        "outputId": "59914858-6bd6-4f2a-a81d-d7e8fe60631c"
      },
      "source": [
        "model_data = df.loc[:,cal_cols + [target]]\n",
        "model_data = model_data.dropna()\n",
        "model_data.shape"
      ],
      "execution_count": 25,
      "outputs": [
        {
          "output_type": "execute_result",
          "data": {
            "text/plain": [
              "(123, 6)"
            ]
          },
          "metadata": {
            "tags": []
          },
          "execution_count": 25
        }
      ]
    },
    {
      "cell_type": "code",
      "metadata": {
        "id": "Jo22kFgFyVrR",
        "colab_type": "code",
        "colab": {
          "base_uri": "https://localhost:8080/",
          "height": 1000
        },
        "outputId": "7e696289-f9f8-46f9-e171-8d75566e73aa"
      },
      "source": [
        "df_pred = pd.DataFrame()\n",
        "kf = KFold(15, shuffle=True)\n",
        "for train_idx, test_idx in kf.split(model_data):\n",
        "  train_data = model_data.iloc[train_idx]\n",
        "  test_data = model_data.iloc[test_idx]\n",
        "  \n",
        "  model = LinearRegression()\n",
        "  model.fit(train_data.loc[:,cal_cols], train_data.loc[:,target])\n",
        "  test_data[f'{target}_pred'] = pd.Series(model.predict(test_data.loc[:,cal_cols]), index=test_data.index)\n",
        "  df_pred = df_pred.append(test_data)\n",
        "df_pred.shape  "
      ],
      "execution_count": 26,
      "outputs": [
        {
          "output_type": "stream",
          "text": [
            "/usr/local/lib/python3.6/dist-packages/ipykernel_launcher.py:9: SettingWithCopyWarning: \n",
            "A value is trying to be set on a copy of a slice from a DataFrame.\n",
            "Try using .loc[row_indexer,col_indexer] = value instead\n",
            "\n",
            "See the caveats in the documentation: https://pandas.pydata.org/pandas-docs/stable/user_guide/indexing.html#returning-a-view-versus-a-copy\n",
            "  if __name__ == '__main__':\n",
            "/usr/local/lib/python3.6/dist-packages/ipykernel_launcher.py:9: SettingWithCopyWarning: \n",
            "A value is trying to be set on a copy of a slice from a DataFrame.\n",
            "Try using .loc[row_indexer,col_indexer] = value instead\n",
            "\n",
            "See the caveats in the documentation: https://pandas.pydata.org/pandas-docs/stable/user_guide/indexing.html#returning-a-view-versus-a-copy\n",
            "  if __name__ == '__main__':\n",
            "/usr/local/lib/python3.6/dist-packages/ipykernel_launcher.py:9: SettingWithCopyWarning: \n",
            "A value is trying to be set on a copy of a slice from a DataFrame.\n",
            "Try using .loc[row_indexer,col_indexer] = value instead\n",
            "\n",
            "See the caveats in the documentation: https://pandas.pydata.org/pandas-docs/stable/user_guide/indexing.html#returning-a-view-versus-a-copy\n",
            "  if __name__ == '__main__':\n",
            "/usr/local/lib/python3.6/dist-packages/ipykernel_launcher.py:9: SettingWithCopyWarning: \n",
            "A value is trying to be set on a copy of a slice from a DataFrame.\n",
            "Try using .loc[row_indexer,col_indexer] = value instead\n",
            "\n",
            "See the caveats in the documentation: https://pandas.pydata.org/pandas-docs/stable/user_guide/indexing.html#returning-a-view-versus-a-copy\n",
            "  if __name__ == '__main__':\n",
            "/usr/local/lib/python3.6/dist-packages/ipykernel_launcher.py:9: SettingWithCopyWarning: \n",
            "A value is trying to be set on a copy of a slice from a DataFrame.\n",
            "Try using .loc[row_indexer,col_indexer] = value instead\n",
            "\n",
            "See the caveats in the documentation: https://pandas.pydata.org/pandas-docs/stable/user_guide/indexing.html#returning-a-view-versus-a-copy\n",
            "  if __name__ == '__main__':\n",
            "/usr/local/lib/python3.6/dist-packages/ipykernel_launcher.py:9: SettingWithCopyWarning: \n",
            "A value is trying to be set on a copy of a slice from a DataFrame.\n",
            "Try using .loc[row_indexer,col_indexer] = value instead\n",
            "\n",
            "See the caveats in the documentation: https://pandas.pydata.org/pandas-docs/stable/user_guide/indexing.html#returning-a-view-versus-a-copy\n",
            "  if __name__ == '__main__':\n",
            "/usr/local/lib/python3.6/dist-packages/ipykernel_launcher.py:9: SettingWithCopyWarning: \n",
            "A value is trying to be set on a copy of a slice from a DataFrame.\n",
            "Try using .loc[row_indexer,col_indexer] = value instead\n",
            "\n",
            "See the caveats in the documentation: https://pandas.pydata.org/pandas-docs/stable/user_guide/indexing.html#returning-a-view-versus-a-copy\n",
            "  if __name__ == '__main__':\n",
            "/usr/local/lib/python3.6/dist-packages/ipykernel_launcher.py:9: SettingWithCopyWarning: \n",
            "A value is trying to be set on a copy of a slice from a DataFrame.\n",
            "Try using .loc[row_indexer,col_indexer] = value instead\n",
            "\n",
            "See the caveats in the documentation: https://pandas.pydata.org/pandas-docs/stable/user_guide/indexing.html#returning-a-view-versus-a-copy\n",
            "  if __name__ == '__main__':\n",
            "/usr/local/lib/python3.6/dist-packages/ipykernel_launcher.py:9: SettingWithCopyWarning: \n",
            "A value is trying to be set on a copy of a slice from a DataFrame.\n",
            "Try using .loc[row_indexer,col_indexer] = value instead\n",
            "\n",
            "See the caveats in the documentation: https://pandas.pydata.org/pandas-docs/stable/user_guide/indexing.html#returning-a-view-versus-a-copy\n",
            "  if __name__ == '__main__':\n",
            "/usr/local/lib/python3.6/dist-packages/ipykernel_launcher.py:9: SettingWithCopyWarning: \n",
            "A value is trying to be set on a copy of a slice from a DataFrame.\n",
            "Try using .loc[row_indexer,col_indexer] = value instead\n",
            "\n",
            "See the caveats in the documentation: https://pandas.pydata.org/pandas-docs/stable/user_guide/indexing.html#returning-a-view-versus-a-copy\n",
            "  if __name__ == '__main__':\n",
            "/usr/local/lib/python3.6/dist-packages/ipykernel_launcher.py:9: SettingWithCopyWarning: \n",
            "A value is trying to be set on a copy of a slice from a DataFrame.\n",
            "Try using .loc[row_indexer,col_indexer] = value instead\n",
            "\n",
            "See the caveats in the documentation: https://pandas.pydata.org/pandas-docs/stable/user_guide/indexing.html#returning-a-view-versus-a-copy\n",
            "  if __name__ == '__main__':\n",
            "/usr/local/lib/python3.6/dist-packages/ipykernel_launcher.py:9: SettingWithCopyWarning: \n",
            "A value is trying to be set on a copy of a slice from a DataFrame.\n",
            "Try using .loc[row_indexer,col_indexer] = value instead\n",
            "\n",
            "See the caveats in the documentation: https://pandas.pydata.org/pandas-docs/stable/user_guide/indexing.html#returning-a-view-versus-a-copy\n",
            "  if __name__ == '__main__':\n",
            "/usr/local/lib/python3.6/dist-packages/ipykernel_launcher.py:9: SettingWithCopyWarning: \n",
            "A value is trying to be set on a copy of a slice from a DataFrame.\n",
            "Try using .loc[row_indexer,col_indexer] = value instead\n",
            "\n",
            "See the caveats in the documentation: https://pandas.pydata.org/pandas-docs/stable/user_guide/indexing.html#returning-a-view-versus-a-copy\n",
            "  if __name__ == '__main__':\n",
            "/usr/local/lib/python3.6/dist-packages/ipykernel_launcher.py:9: SettingWithCopyWarning: \n",
            "A value is trying to be set on a copy of a slice from a DataFrame.\n",
            "Try using .loc[row_indexer,col_indexer] = value instead\n",
            "\n",
            "See the caveats in the documentation: https://pandas.pydata.org/pandas-docs/stable/user_guide/indexing.html#returning-a-view-versus-a-copy\n",
            "  if __name__ == '__main__':\n",
            "/usr/local/lib/python3.6/dist-packages/ipykernel_launcher.py:9: SettingWithCopyWarning: \n",
            "A value is trying to be set on a copy of a slice from a DataFrame.\n",
            "Try using .loc[row_indexer,col_indexer] = value instead\n",
            "\n",
            "See the caveats in the documentation: https://pandas.pydata.org/pandas-docs/stable/user_guide/indexing.html#returning-a-view-versus-a-copy\n",
            "  if __name__ == '__main__':\n"
          ],
          "name": "stderr"
        },
        {
          "output_type": "execute_result",
          "data": {
            "text/plain": [
              "(123, 7)"
            ]
          },
          "metadata": {
            "tags": []
          },
          "execution_count": 26
        }
      ]
    },
    {
      "cell_type": "code",
      "metadata": {
        "id": "8rDUIEn00qFy",
        "colab_type": "code",
        "colab": {}
      },
      "source": [
        "rmse = mean_squared_error(df_pred[target], df_pred[f\"{target}_pred\"])**0.5\n",
        "r2 = pearsonr(df_pred[target], df_pred[f\"{target}_pred\"])[0]**2"
      ],
      "execution_count": 29,
      "outputs": []
    },
    {
      "cell_type": "code",
      "metadata": {
        "id": "sXROnaQ80h3k",
        "colab_type": "code",
        "colab": {
          "base_uri": "https://localhost:8080/",
          "height": 311
        },
        "outputId": "b12b8ed5-da85-4339-ca8a-d68914025cdf"
      },
      "source": [
        "sns.regplot(target,f\"{target}_pred\",data=df_pred)\n",
        "plt.title(f\"\"\"RMSE: {round(rmse,3)}\\nR2: {round(r2,3)}\"\"\")\n",
        "sns.despine()\n",
        "plt.show()"
      ],
      "execution_count": 32,
      "outputs": [
        {
          "output_type": "display_data",
          "data": {
            "image/png": "[encoded data removed]",
            "text/plain": [
              "<Figure size 432x288 with 1 Axes>"
            ]
          },
          "metadata": {
            "tags": [],
            "needs_background": "light"
          }
        }
      ]
    }
  ]
}